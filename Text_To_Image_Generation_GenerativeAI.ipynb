{
 "cells": [
  {
   "cell_type": "markdown",
   "id": "0b26da11",
   "metadata": {},
   "source": [
    "## Importing Necessary Libraries"
   ]
  },
  {
   "cell_type": "code",
   "execution_count": 1,
   "id": "995fffcd",
   "metadata": {},
   "outputs": [],
   "source": [
    "import gradio as gr\n",
    "import openai"
   ]
  },
  {
   "cell_type": "code",
   "execution_count": 2,
   "id": "6850d077",
   "metadata": {},
   "outputs": [],
   "source": [
    "#Add the access key generated from your OpenAI account\n",
    "openai.api_key = \"YourAPI\""
   ]
  },
  {
   "cell_type": "markdown",
   "id": "9dd06673",
   "metadata": {},
   "source": [
    "## Creating our Assistant"
   ]
  },
  {
   "cell_type": "code",
   "execution_count": 3,
   "id": "9b3d6a9b",
   "metadata": {},
   "outputs": [],
   "source": [
    "def chatgpt_api(input_text):\n",
    "    messages = [\n",
    "        {\"role\": \"system\", \"content\": \"Hello I'm Jarvis Singh, your personal Assistant\"},\n",
    "        {\"role\": \"user\", \"content\": input_text}\n",
    "    ]\n",
    "    \n",
    "    chat_completion = openai.ChatCompletion.create(\n",
    "        model=\"gpt-3.5-turbo\", messages=messages\n",
    "    )\n",
    "    \n",
    "    reply = chat_completion.choices[0].message.content\n",
    "    return reply"
   ]
  },
  {
   "cell_type": "markdown",
   "id": "0455361d",
   "metadata": {},
   "source": [
    "## Image Generator (DALL-E)"
   ]
  },
  {
   "cell_type": "code",
   "execution_count": 4,
   "id": "9da58d8b",
   "metadata": {},
   "outputs": [],
   "source": [
    "def dall_e_api(dalle_prompt):\n",
    "    dalle_response = openai.Image.create(\n",
    "        prompt=dalle_prompt,\n",
    "        size=\"512x512\"\n",
    "    )\n",
    "    image_url = dalle_response['data'][0]['url']\n",
    "    return image_url"
   ]
  },
  {
   "cell_type": "markdown",
   "id": "8bd8a0c9",
   "metadata": {},
   "source": [
    "##  Generate Image from Text"
   ]
  },
  {
   "cell_type": "code",
   "execution_count": 5,
   "id": "d2ebba41",
   "metadata": {},
   "outputs": [],
   "source": [
    "def generate_image(input_text):\n",
    "    dalle_prompt = chatgpt_api(input_text)\n",
    "    image_url = dall_e_api(dalle_prompt)\n",
    "    return image_url"
   ]
  },
  {
   "cell_type": "code",
   "execution_count": 6,
   "id": "c43265d1",
   "metadata": {},
   "outputs": [
    {
     "name": "stderr",
     "output_type": "stream",
     "text": [
      "D:\\Anaconda\\lib\\site-packages\\gradio\\inputs.py:27: UserWarning: Usage of gradio.inputs is deprecated, and will not be supported in the future, please import your component from gradio.components\n",
      "  warnings.warn(\n",
      "D:\\Anaconda\\lib\\site-packages\\gradio\\inputs.py:30: UserWarning: `optional` parameter is deprecated, and it has no effect\n",
      "  super().__init__(\n",
      "D:\\Anaconda\\lib\\site-packages\\gradio\\inputs.py:30: UserWarning: `numeric` parameter is deprecated, and it has no effect\n",
      "  super().__init__(\n",
      "D:\\Anaconda\\lib\\site-packages\\gradio\\outputs.py:43: UserWarning: Usage of gradio.outputs is deprecated, and will not be supported in the future, please import your components from gradio.components\n",
      "  warnings.warn(\n"
     ]
    }
   ],
   "source": [
    "input_text = gr.inputs.Textbox(label=\"Input Text\")\n",
    "output_image = gr.outputs.Image(type=\"pil\", label=\"Generated Image\")"
   ]
  },
  {
   "cell_type": "markdown",
   "id": "4e2af7a6",
   "metadata": {},
   "source": [
    "## Gradio Interface"
   ]
  },
  {
   "cell_type": "code",
   "execution_count": 7,
   "id": "035d54a7",
   "metadata": {},
   "outputs": [],
   "source": [
    "image_generation_interface = gr.Interface(\n",
    "    fn=generate_image,\n",
    "    inputs=input_text,\n",
    "    outputs=output_image,\n",
    "    title=\"Welcome To Abhishek's Text to Image Generation\",\n",
    "    description=\"Enter your imagination\"\n",
    ")"
   ]
  },
  {
   "cell_type": "code",
   "execution_count": null,
   "id": "9eff30c7",
   "metadata": {
    "scrolled": false
   },
   "outputs": [
    {
     "name": "stdout",
     "output_type": "stream",
     "text": [
      "Running on local URL:  http://127.0.0.1:7860\n",
      "\n",
      "To create a public link, set `share=True` in `launch()`.\n"
     ]
    },
    {
     "data": {
      "text/html": [
       "<div><iframe src=\"http://127.0.0.1:7860/\" width=\"100%\" height=\"500\" allow=\"autoplay; camera; microphone; clipboard-read; clipboard-write;\" frameborder=\"0\" allowfullscreen></iframe></div>"
      ],
      "text/plain": [
       "<IPython.core.display.HTML object>"
      ]
     },
     "metadata": {},
     "output_type": "display_data"
    }
   ],
   "source": [
    "image_generation_interface.launch(debug=True)"
   ]
  },
  {
   "cell_type": "code",
   "execution_count": null,
   "id": "6e8f97cd",
   "metadata": {},
   "outputs": [],
   "source": []
  }
 ],
 "metadata": {
  "kernelspec": {
   "display_name": "Python 3 (ipykernel)",
   "language": "python",
   "name": "python3"
  },
  "language_info": {
   "codemirror_mode": {
    "name": "ipython",
    "version": 3
   },
   "file_extension": ".py",
   "mimetype": "text/x-python",
   "name": "python",
   "nbconvert_exporter": "python",
   "pygments_lexer": "ipython3",
   "version": "3.9.13"
  }
 },
 "nbformat": 4,
 "nbformat_minor": 5
}
